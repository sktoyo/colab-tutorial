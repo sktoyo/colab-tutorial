{
  "nbformat": 4,
  "nbformat_minor": 0,
  "metadata": {
    "colab": {
      "name": "toy_model",
      "provenance": [],
      "collapsed_sections": [
        "_QxerMCkXVOM",
        "hAZMoosnPbRM"
      ],
      "toc_visible": true,
      "include_colab_link": true
    },
    "kernelspec": {
      "display_name": "Python 3",
      "language": "python",
      "name": "python3"
    },
    "language_info": {
      "codemirror_mode": {
        "name": "ipython",
        "version": 3
      },
      "file_extension": ".py",
      "mimetype": "text/x-python",
      "name": "python",
      "nbconvert_exporter": "python",
      "pygments_lexer": "ipython3",
      "version": "3.6.10"
    },
    "accelerator": "GPU"
  },
  "cells": [
    {
      "cell_type": "markdown",
      "metadata": {
        "id": "view-in-github",
        "colab_type": "text"
      },
      "source": [
        "<a href=\"https://colab.research.google.com/github/sktoyo/colab-tutorial/blob/master/toy_model.ipynb\" target=\"_parent\"><img src=\"https://colab.research.google.com/assets/colab-badge.svg\" alt=\"Open In Colab\"/></a>"
      ]
    },
    {
      "cell_type": "markdown",
      "metadata": {
        "id": "zg9mG39WpeFi",
        "colab_type": "text"
      },
      "source": [
        "# 개발환경 세팅"
      ]
    },
    {
      "cell_type": "markdown",
      "metadata": {
        "id": "bEICu7aE1Ugt",
        "colab_type": "text"
      },
      "source": [
        "Library import"
      ]
    },
    {
      "cell_type": "code",
      "metadata": {
        "id": "lR7QLcAs93-m",
        "colab_type": "code",
        "colab": {}
      },
      "source": [
        "import os\n",
        "import sys\n",
        "\n",
        "import tensorflow as tf\n",
        "from tensorflow.keras import layers\n",
        "from tqdm.notebook import trange, tqdm\n",
        "\n",
        "import networkx as nx\n",
        "import matplotlib.pyplot as plt\n",
        "from sklearn.metrics import roc_auc_score, average_precision_score\n",
        "\n",
        "import scipy.sparse as sp\n",
        "import numpy as np\n",
        "import random\n",
        "\n",
        "import datetime"
      ],
      "execution_count": 0,
      "outputs": []
    },
    {
      "cell_type": "markdown",
      "metadata": {
        "id": "EfDjnkSZNmm2",
        "colab_type": "text"
      },
      "source": [
        "## Tensorboard codes"
      ]
    },
    {
      "cell_type": "code",
      "metadata": {
        "id": "Vnf_9poRj1uN",
        "colab_type": "code",
        "colab": {}
      },
      "source": [
        "# Load the TensorBoard notebook extension.\n",
        "%load_ext tensorboard\n",
        "\n",
        "# Clear any logs from previous runs\n",
        "!rm -rf ./logs/ \n",
        "\n",
        "log_dir = \"logs/fit/\" + datetime.datetime.now().strftime(\"%Y%m%d-%H%M%S\")\n",
        "tensorboard_callback = tf.keras.callbacks.TensorBoard(log_dir=log_dir, histogram_freq=1)"
      ],
      "execution_count": 0,
      "outputs": []
    },
    {
      "cell_type": "markdown",
      "metadata": {
        "id": "CTtXwCxkvjVG",
        "colab_type": "text"
      },
      "source": [
        "# Data preprocessing"
      ]
    },
    {
      "cell_type": "code",
      "metadata": {
        "id": "Ulm1IhF3vmHr",
        "colab_type": "code",
        "colab": {}
      },
      "source": [
        "def sparse_to_tuple(sparse_mx):\n",
        "    if not sp.isspmatrix_coo(sparse_mx):\n",
        "        sparse_mx = sparse_mx.tocoo()\n",
        "    coords = np.vstack((sparse_mx.row, sparse_mx.col)).transpose()\n",
        "    values = sparse_mx.data\n",
        "    shape = sparse_mx.shape\n",
        "    return coords, values, shape\n",
        "\n",
        "\n",
        "def convert_sparse_matrix_to_sparse_tensor(inputs):\n",
        "    coo = inputs.tocoo()\n",
        "    indices = np.mat([coo.row, coo.col]).transpose()\n",
        "    output = tf.SparseTensor(indices, coo.data.astype('float64'), coo.shape)\n",
        "    output = tf.dtypes.cast(output, tf.float32)\n",
        "    return output\n",
        "\n",
        "\n",
        "def dropout_dense(x, drop_rate):\n",
        "    return tf.nn.dropout(x, rate=drop_rate)\n",
        "\n",
        "\n",
        "def preprocess_graph(adj):\n",
        "    adj = sp.coo_matrix(adj)\n",
        "    adj_ = adj + sp.eye(adj.shape[0])\n",
        "    rowsum = np.array(adj_.sum(1))\n",
        "    degree_mat_inv_sqrt = sp.diags(np.power(rowsum, -0.5).flatten())\n",
        "    adj_normalized = adj_.dot(degree_mat_inv_sqrt).transpose().dot(degree_mat_inv_sqrt)#.tocoo()\n",
        "    return convert_sparse_matrix_to_sparse_tensor(adj_normalized)\n",
        "\n",
        "\n",
        "def get_norm_terms(adj):\n",
        "    pos_weight = float(adj.shape[0] * adj.shape[0] - adj.sum()) / adj.sum()\n",
        "    norm = adj.shape[0] * adj.shape[0] / float((adj.shape[0] * adj.shape[0] - adj.sum()) * 2)\n",
        "    return pos_weight, norm\n",
        "\n",
        "\n",
        "def data_split(adj, validation_rate,\n",
        "               test_rate):  # get train set, validation set, test set, using upper triangle of adj matrix\n",
        "    coords, values, shape = sparse_to_tuple(adj)\n",
        "    test_num = int(len(values) * test_rate)\n",
        "    validation_num = int(len(values) * validation_rate)\n",
        "\n",
        "    # create positive set for train, validation, test from\n",
        "    coords = coords.tolist()\n",
        "    positive_set = np.array([coo for coo in coords if coo[0] < coo[1]])\n",
        "    positive_idx = np.array([coo[0] * shape[0] + coo[1] for coo in positive_set])\n",
        "\n",
        "    np.random.shuffle(positive_set)\n",
        "\n",
        "    test_pos = positive_set[:test_num]\n",
        "    valid_pos = positive_set[test_num:(test_num + validation_num)]\n",
        "    train_edges = positive_set[(test_num + validation_num):]\n",
        "\n",
        "    # create negative set for validation, test\n",
        "    negative_idx_list = list()\n",
        "\n",
        "\n",
        "    while len(negative_idx_list) < test_num + validation_num:\n",
        "        i = random.randrange(shape[0])\n",
        "        j = random.randrange(shape[0])\n",
        "        if i < j:\n",
        "            idx = i * shape[0] + j\n",
        "            if idx not in positive_idx:\n",
        "                negative_idx_list.append(idx)\n",
        "\n",
        "    negative_idx = np.array(negative_idx_list)\n",
        "\n",
        "    np.random.shuffle(negative_idx)\n",
        "    test_neg = np.array([[idx // shape[0], idx % shape[0]] for idx in negative_idx[:test_num]])\n",
        "    valid_neg = np.array(\n",
        "        [[idx // shape[0], idx % shape[0]] for idx in negative_idx[test_num:(test_num + validation_num)]])\n",
        "\n",
        "    data = np.ones(len(train_edges))\n",
        "\n",
        "    # reconstruct train adjacency matrix\n",
        "    adj_train = sp.csr_matrix((data, (train_edges[:, 0], train_edges[:, 1])), shape=adj.shape)\n",
        "    adj_train = adj_train + adj_train.T\n",
        "\n",
        "    return adj_train, train_edges, valid_pos, valid_neg, test_pos, test_neg\n",
        "\n",
        "def get_roc_score(edges_pos, edges_neg, model, adj_orig):\n",
        "  def sigmoid(x):\n",
        "    return 1 /(1 + np.exp(-x))\n",
        "\n",
        "  reconstucted = gae.reconstructed\n",
        "  preds = []\n",
        "  pos = []\n",
        "  for e in edges_pos:\n",
        "    preds.append(sigmoid(reconstucted[e[0],e[1]]))\n",
        "    pos.append(adj_orig[e[0],e[1]])\n",
        "\n",
        "  preds_neg = []\n",
        "  neg = []\n",
        "  for e in edges_neg:\n",
        "    preds_neg.append(sigmoid(reconstucted[e[0],e[1]]))\n",
        "    neg.append(adj_orig[e[0],e[1]])\n",
        "  \n",
        "  preds_all = np.hstack([preds, preds_neg])\n",
        "  labels_all = np.hstack([np.ones(len(preds)), np.zeros(len(preds_neg))])\n",
        "  roc_score = roc_auc_score(labels_all, preds_all)\n",
        "  ap_score = average_precision_score(labels_all, preds_all)\n",
        "\n",
        "  return roc_score, ap_score"
      ],
      "execution_count": 0,
      "outputs": []
    },
    {
      "cell_type": "markdown",
      "metadata": {
        "id": "6v99zaeGuxhI",
        "colab_type": "text"
      },
      "source": [
        "# Model"
      ]
    },
    {
      "cell_type": "code",
      "metadata": {
        "id": "Mtky0PxAu1Ky",
        "colab_type": "code",
        "colab": {}
      },
      "source": [
        "class GraphConvolutionSparse(layers.Layer):\n",
        "    def __init__(self, input_dim, output_dim, dropout):\n",
        "        super(GraphConvolutionSparse, self).__init__()\n",
        "        self.input_dim = input_dim\n",
        "        self.output_dim = output_dim\n",
        "        self.dropout = dropout\n",
        "\n",
        "    def build(self, inputs):\n",
        "        self.w = self.add_weight(shape=(self.input_dim, self.output_dim), initializer='GlorotNormal', trainable=True)\n",
        "\n",
        "    def call(self, adj, inputs):\n",
        "        x = inputs\n",
        "        x = dropout_dense(x, self.dropout)\n",
        "        x = tf.matmul(x, self.w)\n",
        "        x = tf.sparse.sparse_dense_matmul(adj, x)\n",
        "        outputs = tf.nn.leaky_relu(x)\n",
        "        return outputs"
      ],
      "execution_count": 0,
      "outputs": []
    },
    {
      "cell_type": "code",
      "metadata": {
        "id": "lbYxC5Y8uwyg",
        "colab_type": "code",
        "colab": {}
      },
      "source": [
        "class GraphConvolution(layers.Layer):\n",
        "    def __init__(self, input_dim, output_dim, dropout):\n",
        "        super(GraphConvolution, self).__init__()\n",
        "        self.input_dim = input_dim\n",
        "        self.output_dim = output_dim\n",
        "        self.dropout = dropout\n",
        "\n",
        "    def build(self, inputs):\n",
        "        self.w = self.add_weight(shape=(self.input_dim, self.output_dim), initializer='GlorotNormal', trainable=True)\n",
        "\n",
        "    def call(self, adj, inputs):\n",
        "        x = inputs\n",
        "        x = tf.nn.dropout(inputs, self.dropout)\n",
        "        x = tf.matmul(x, self.w)\n",
        "        x = tf.sparse.sparse_dense_matmul(adj, x)\n",
        "        outputs = tf.nn.leaky_relu(x)\n",
        "        return outputs"
      ],
      "execution_count": 0,
      "outputs": []
    },
    {
      "cell_type": "code",
      "metadata": {
        "id": "BHCknLO2vEP5",
        "colab_type": "code",
        "colab": {}
      },
      "source": [
        "class InnerProductDecoder(layers.Layer):\n",
        "    def __init__(self, dropout):\n",
        "        super(InnerProductDecoder, self).__init__()\n",
        "        self.dropout = dropout\n",
        "\n",
        "    def call(self, inputs):\n",
        "        x = tf.nn.dropout(inputs, self.dropout)\n",
        "        x = tf.transpose(inputs)\n",
        "        outputs = tf.matmul(inputs, x)\n",
        "        return outputs"
      ],
      "execution_count": 0,
      "outputs": []
    },
    {
      "cell_type": "code",
      "metadata": {
        "id": "22CYIat-vHye",
        "colab_type": "code",
        "colab": {}
      },
      "source": [
        "class GraphAutoEncoder(tf.keras.Model):\n",
        "    def __init__(self, adj_orig, dropout, original_dim, intermediate_dim, latent_dim, name=\"GCNModel\"):\n",
        "        super(GraphAutoEncoder, self).__init__(name=name)\n",
        "        self.dropout = dropout\n",
        "        self.pos_weight, self.norm = get_norm_terms(adj_orig)\n",
        "        self.adj_orig_tensor = tf.sparse.to_dense(convert_sparse_matrix_to_sparse_tensor(adj_orig))\n",
        "\n",
        "        # layers\n",
        "        self.graphconvolutionsparse = GraphConvolutionSparse(\n",
        "            input_dim=original_dim,\n",
        "            output_dim=intermediate_dim,\n",
        "            dropout=self.dropout)\n",
        "        self.graphconvolution = GraphConvolution(\n",
        "            input_dim=intermediate_dim,\n",
        "            output_dim=latent_dim,\n",
        "            dropout=self.dropout)\n",
        "        self.innerproductdecoder = InnerProductDecoder(\n",
        "            dropout=self.dropout\n",
        "        )\n",
        "\n",
        "    def set_adj(self, adj):\n",
        "        self.adj = adj\n",
        "\n",
        "    def call(self, inputs):\n",
        "        self.intermediate_latent = self.graphconvolutionsparse(self.adj, inputs)\n",
        "        self.final_latent = self.graphconvolution(self.adj, self.intermediate_latent)\n",
        "        self.reconstructed = self.innerproductdecoder(self.final_latent)\n",
        "\n",
        "        # loss function\n",
        "        loss = self.norm * tf.reduce_mean(tf.nn.weighted_cross_entropy_with_logits(logits=tf.reshape(self.reconstructed, [-1]),\n",
        "                                                                          labels=tf.reshape(self.adj_orig_tensor, [-1]),\n",
        "                                                                          pos_weight=self.pos_weight))\n",
        "\n",
        "        self.add_loss(loss)\n",
        "\n",
        "        # acc function\n",
        "        correct_prediction = tf.equal(tf.cast(tf.greater_equal(tf.sigmoid(self.reconstructed), 0.5), tf.int32),\n",
        "                                      tf.cast(self.adj_orig_tensor, tf.int32))\n",
        "        acc = tf.reduce_mean(tf.cast(correct_prediction, tf.float32))\n",
        "        self.add_metric(acc, name='acc', aggregation='mean')\n",
        "\n",
        "        return self.reconstructed"
      ],
      "execution_count": 0,
      "outputs": []
    },
    {
      "cell_type": "code",
      "metadata": {
        "id": "Q-cMdAAZ81sg",
        "colab_type": "code",
        "colab": {}
      },
      "source": [
        "class validationCallback(tf.keras.callbacks.Callback):\n",
        "  \n",
        "  def __init__(self, input_dataset, val_pos, val_neg, adj_orig):\n",
        "    super(validationCallback, self).__init__()\n",
        "\n",
        "    self.val_pos = val_pos\n",
        "    self.val_neg = val_neg\n",
        "    self.adj_orig = adj_orig\n",
        "    self.roc_scores = []\n",
        "    self.ap_scores = []\n",
        "  \n",
        "  def on_epoch_end(self, epoch, logs=None):\n",
        "    reconstructed = self.model.predict(input_dataset)\n",
        "    preds = []\n",
        "    pos = []\n",
        "    for e in self.val_pos:\n",
        "      preds.append(tf.keras.activations.sigmoid(reconstructed[e[0],e[1]]))\n",
        "      pos.append(self.adj_orig[e[0],e[1]])\n",
        "\n",
        "    preds_neg = []\n",
        "    neg = []\n",
        "    for e in self.val_neg:\n",
        "      preds_neg.append(tf.keras.activations.sigmoid(reconstructed[e[0],e[1]]))\n",
        "      neg.append(adj_orig[e[0],e[1]])\n",
        "    \n",
        "    preds_all = np.hstack([preds, preds_neg])\n",
        "    labels_all = np.hstack([np.ones(len(preds)), np.zeros(len(preds_neg))])\n",
        "    roc_score = roc_auc_score(labels_all, preds_all)\n",
        "    self.roc_scores.append(roc_score)\n",
        "    ap_score = average_precision_score(labels_all, preds_all)\n",
        "    self.ap_scores.append(ap_score)\n",
        "    print('\\nEpoch %05d: validation roc %f, validation ap %f' % (epoch+1, roc_score, ap_score))"
      ],
      "execution_count": 0,
      "outputs": []
    },
    {
      "cell_type": "markdown",
      "metadata": {
        "id": "6E0lC2wo2V9r",
        "colab_type": "text"
      },
      "source": [
        "# Toy model"
      ]
    },
    {
      "cell_type": "markdown",
      "metadata": {
        "id": "_QxerMCkXVOM",
        "colab_type": "text"
      },
      "source": [
        "## Input data"
      ]
    },
    {
      "cell_type": "code",
      "metadata": {
        "id": "G3AF_mSbPssw",
        "colab_type": "code",
        "colab": {}
      },
      "source": [
        "# Toy graph\n",
        "karate_G = nx.karate_club_graph()\n",
        "\n",
        "karate_G = nx.karate_club_graph()\n",
        "karate_adj = nx.adj_matrix(karate_G)"
      ],
      "execution_count": 0,
      "outputs": []
    },
    {
      "cell_type": "code",
      "metadata": {
        "id": "x8mO9ENlJ4K8",
        "colab_type": "code",
        "colab": {}
      },
      "source": [
        "# Original Adjacency matrix\n",
        "adj_orig = karate_adj\n",
        "adj_orig_tensor = tf.sparse.to_dense(convert_sparse_matrix_to_sparse_tensor(adj_orig))\n",
        "\n",
        "# Input feature matrix\n",
        "feature_tensor = tf.eye(karate_adj.shape[0])\n",
        "input_dataset = tf.data.Dataset.from_tensors(feature_tensor)\n",
        "\n",
        "# Data split\n",
        "adj_train, train_edges, valid_pos, valid_neg, test_pos, test_neg = data_split(adj_orig, 0.2, 0.1)\n",
        "\n",
        "# Preporcess the adjacency matrix\n",
        "adj_train = preprocess_graph(adj_train)\n",
        "\n",
        "# Learning parameters\n",
        "epochs = 100\n",
        "input_layer_dim = int(adj_orig.shape[0])\n",
        "first_layer_dim = 128\n",
        "final_layer_dim = 64\n",
        "dropout = 0"
      ],
      "execution_count": 0,
      "outputs": []
    },
    {
      "cell_type": "markdown",
      "metadata": {
        "id": "tSbKpVCnTt0b",
        "colab_type": "text"
      },
      "source": [
        "## Class model test"
      ]
    },
    {
      "cell_type": "code",
      "metadata": {
        "id": "O_BOHi8ti3Ho",
        "colab_type": "code",
        "colab": {}
      },
      "source": [
        "# Define model\n",
        "gae = GraphAutoEncoder(adj_orig, 0, input_layer_dim, first_layer_dim, final_layer_dim)\n",
        "gae.set_adj(adj_train)\n",
        "\n",
        "# Define optimizer\n",
        "optimizer = tf.keras.optimizers.Adam(learning_rate=1e-3)\n",
        "\n",
        "# Compile model\n",
        "gae.compile(optimizer)\n",
        "\n",
        "# Define callbacks\n",
        "validation_Callback = validationCallback(input_dataset, valid_pos, valid_neg, adj_orig)\n",
        "callback = tf.keras.callbacks.EarlyStopping(monitor='loss', patience=3)\n",
        "\n",
        "# Learning\n",
        "history= gae.fit(x=input_dataset, epochs=epochs, callbacks=[callback, validation_Callback])\n"
      ],
      "execution_count": 0,
      "outputs": []
    },
    {
      "cell_type": "markdown",
      "metadata": {
        "id": "hAZMoosnPbRM",
        "colab_type": "text"
      },
      "source": [
        "## Functional model test"
      ]
    },
    {
      "cell_type": "code",
      "metadata": {
        "id": "Z4gLEwUyPawl",
        "colab_type": "code",
        "colab": {}
      },
      "source": [
        "# Define functional model\n",
        "original_input = tf.keras.Input(shape=(feature_tensor.shape[0], feature_tensor.shape[1]))\n",
        "first_latent = GraphConvolutionSparse(input_layer_dim, first_layer_dim, dropout)(adj_train, tf.reshape(original_input, shape=[feature_tensor.shape[0], feature_tensor.shape[1]]))\n",
        "final_latent = GraphConvolution(first_layer_dim, final_layer_dim, dropout)(adj_train, first_latent)\n",
        "reconstructed = InnerProductDecoder(dropout)(final_latent)\n",
        "\n",
        "gae = tf.keras.Model(inputs = first_latent, outputs = reconstructed, name='gae')\n",
        "\n",
        "# Add loss\n",
        "loss = gae_loss(adj_orig, adj_orig_tensor, gae)\n",
        "gae.add_loss(loss)\n",
        "\n",
        "# Add acc\n",
        "acc = gae_acc(adj_orig_tensor, gae)\n",
        "gae.add_metric(acc, name='acc', aggregation='mean')\n",
        "\n",
        "# Define optimizer\n",
        "optimizer = tf.keras.optimizers.Adam(learning_rate=1e-3)\n",
        "\n",
        "# Compile model\n",
        "gae.complie(optimizer)\n",
        "\n",
        "# Define callbacks\n",
        "validation_Callback = validationCallback(input_dataset, valid_pos, valid_neg, adj_orig)\n",
        "callback = tf.keras.callbacks.EarlyStopping(monitor='loss', patience=3)\n",
        "\n",
        "# Learning\n",
        "history= gae.fit(x=input_dataset, epochs=epochs, callbacks=[callback, validation_Callback])"
      ],
      "execution_count": 0,
      "outputs": []
    },
    {
      "cell_type": "markdown",
      "metadata": {
        "id": "NPYM_Fm-bMc_",
        "colab_type": "text"
      },
      "source": [
        "## Visualization"
      ]
    },
    {
      "cell_type": "code",
      "metadata": {
        "id": "EM-OCDeEkGdA",
        "colab_type": "code",
        "colab": {}
      },
      "source": [
        "%tensorboard --logdir logs/fit"
      ],
      "execution_count": 0,
      "outputs": []
    },
    {
      "cell_type": "code",
      "metadata": {
        "id": "LgivAONoxJkX",
        "colab_type": "code",
        "outputId": "03389b32-7007-46b5-b99c-2c0fc2fd25eb",
        "colab": {
          "base_uri": "https://localhost:8080/",
          "height": 282
        }
      },
      "source": [
        "import matplotlib.pyplot as plt\n",
        "\n",
        "fig, loss_ax = plt.subplots()\n",
        "\n",
        "acc_ax = loss_ax.twinx()\n",
        "\n",
        "loss_ax.plot(history.history['loss'], 'y', label='train loss')\n",
        "# loss_ax.plot(history.history['val_loss'], 'r', label='val loss')\n",
        "\n",
        "acc_ax.plot(history.history['acc'], 'b', label='train acc')\n",
        "# acc_ax.plot(history.history['val_acc'], 'g', label='val acc')\n",
        "\n",
        "loss_ax.set_xlabel('epoch')\n",
        "loss_ax.set_ylabel('loss')\n",
        "acc_ax.set_ylabel('accuray')\n",
        "\n",
        "loss_ax.legend(loc='upper left')\n",
        "acc_ax.legend(loc='lower left')\n",
        "\n",
        "plt.show()"
      ],
      "execution_count": 61,
      "outputs": [
        {
          "output_type": "display_data",
          "data": {
            "image/png": "[encoded data removed]",
            "text/plain": [
              "<Figure size 432x288 with 2 Axes>"
            ]
          },
          "metadata": {
            "tags": [],
            "needs_background": "light"
          }
        }
      ]
    },
    {
      "cell_type": "code",
      "metadata": {
        "id": "LQND37q0PO_-",
        "colab_type": "code",
        "colab": {}
      },
      "source": [
        "x = np.linspace(0, 2*np.pi, 400)\n",
        "y = np.sin(x**2)"
      ],
      "execution_count": 0,
      "outputs": []
    },
    {
      "cell_type": "code",
      "metadata": {
        "id": "3o2fqnbGPQOW",
        "colab_type": "code",
        "outputId": "a2cb8a8d-c8c5-4f7c-eb41-fecbe948daf5",
        "colab": {
          "base_uri": "https://localhost:8080/",
          "height": 279
        }
      },
      "source": [
        "fig, auc_ax = plt.subplots()\n",
        "\n",
        "pr_ax = auc_ax.twinx()\n",
        "roc_scores = validation_Callback.roc_scores\n",
        "ap_scores = validation_Callback.ap_scores\n",
        "\n",
        "auc_ax.plot(roc_scores, 'r', label='AUROC')\n",
        "# loss_ax.plot(history.history['val_loss'], 'r', label='val loss')\n",
        "\n",
        "pr_ax.plot(ap_scores, 'b', label='PR')\n",
        "# acc_ax.plot(history.history['val_acc'], 'g', label='val acc')\n",
        "\n",
        "auc_ax.set_xlabel('epoch')\n",
        "auc_ax.set_ylabel('AUROC')\n",
        "pr_ax.set_ylabel('PR')\n",
        "\n",
        "auc_ax.legend(loc='upper left')\n",
        "pr_ax.legend(loc='lower left')\n",
        "\n",
        "plt.show()"
      ],
      "execution_count": 0,
      "outputs": [
        {
          "output_type": "display_data",
          "data": {
            "image/png": "[encoded data removed]",
            "text/plain": [
              "<Figure size 432x288 with 2 Axes>"
            ]
          },
          "metadata": {
            "tags": [],
            "needs_background": "light"
          }
        }
      ]
    },
    {
      "cell_type": "markdown",
      "metadata": {
        "id": "b0ayumPaBJ66",
        "colab_type": "text"
      },
      "source": [
        "# loss calculation"
      ]
    },
    {
      "cell_type": "code",
      "metadata": {
        "id": "fjWAcZWHKoAY",
        "colab_type": "code",
        "colab": {}
      },
      "source": [
        "# loss function\n",
        "def gae_loss(adj_orig, adj_orig_tensor, input_dataset, gae):\n",
        "  pos_weight, norm = get_norm_terms(adj_orig)\n",
        "  reconstructed = gae.predict(input_dataset)\n",
        "  loss = norm * tf.reduce_mean(tf.nn.weighted_cross_entropy_with_logits(logits=tf.reshape(reconstructed, [-1]),\n",
        "                                                                          labels=tf.reshape(adj_orig_tensor, [-1]),\n",
        "                                                                          pos_weight=pos_weight))\n",
        "  return loss\n",
        "\n",
        "# acc function\n",
        "def gae_acc(adj_orig_tensor, gae):\n",
        "  correct_prediction = tf.equal(tf.cast(tf.greater_equal(tf.sigmoid(gae.reconstructed), 0.5), tf.int32),\n",
        "                                      tf.cast(adj_orig_tensor, tf.int32))\n",
        "  acc = tf.reduce_mean(tf.cast(correct_prediction, tf.float32))\n",
        "  return acc"
      ],
      "execution_count": 0,
      "outputs": []
    }
  ]
}