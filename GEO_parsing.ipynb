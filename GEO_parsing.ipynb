{
  "nbformat": 4,
  "nbformat_minor": 0,
  "metadata": {
    "colab": {
      "name": "GEO parsing.ipynb",
      "provenance": [],
      "authorship_tag": "ABX9TyOvEs67WrrLqUyw3BvYjjph",
      "include_colab_link": true
    },
    "kernelspec": {
      "name": "python3",
      "display_name": "Python 3"
    }
  },
  "cells": [
    {
      "cell_type": "markdown",
      "metadata": {
        "id": "view-in-github",
        "colab_type": "text"
      },
      "source": [
        "<a href=\"https://colab.research.google.com/github/sktoyo/miscellaneous_codes/blob/master/GEO_parsing.ipynb\" target=\"_parent\"><img src=\"https://colab.research.google.com/assets/colab-badge.svg\" alt=\"Open In Colab\"/></a>"
      ]
    },
    {
      "cell_type": "code",
      "metadata": {
        "id": "rDQNkbbCGGc1",
        "colab_type": "code",
        "colab": {}
      },
      "source": [
        "import GEOparse\n",
        "import pandas as pd\n",
        "import pylab as pl\n",
        "import seaborn as sns\n",
        "import numpy as np\n",
        "import pandas as pd\n",
        "import networkx as nx\n",
        "import scipy\n",
        "import json\n",
        "import itertools"
      ],
      "execution_count": 32,
      "outputs": []
    },
    {
      "cell_type": "code",
      "metadata": {
        "id": "SIfXJS4GNJnk",
        "colab_type": "code",
        "colab": {}
      },
      "source": [
        "gse = GEOparse.get_GEO(geo=\"GSE7621\", destdir=\"gene_expression_data/\")"
      ],
      "execution_count": null,
      "outputs": []
    },
    {
      "cell_type": "code",
      "metadata": {
        "id": "bjhC0SXpJzYJ",
        "colab_type": "code",
        "colab": {}
      },
      "source": [
        "def get_gse_file(geo_number, download, file_name):\n",
        "  if download:\n",
        "    gse = GEOparse.get_GEO(geo=geo_number, destdir = \"/content/mnt/My Drive/Colab Notebooks/Projects/DCEN/data/gene_expression\")\n",
        "  else:\n",
        "    gse = GEOparse.get_GEO(filepath = \"/content/mnt/My Drive/Colab Notebooks/Projects/DCEN/data/gene_expression/%s\" % file_name)\n",
        "  return gse"
      ],
      "execution_count": 33,
      "outputs": []
    },
    {
      "cell_type": "code",
      "metadata": {
        "id": "vPUcqbClNbwD",
        "colab_type": "code",
        "colab": {}
      },
      "source": [
        "def filter_genes(gse_obj, cut_off, log2, condition_list):\n",
        "  if log2:\n",
        "    pivoted_samples = gse_obj.pivot_samples('VALUE')[condition_list]\n",
        "    return pivoted_samples\n",
        "  else:\n",
        "    pivoted_samples = np.log2(gse_obj.pivot_samples('VALUE')[condition_list])\n",
        "  pivoted_samples_average = pivoted_samples.median(axis=1)\n",
        "  print(\"Number of probes before filtering: \", len(pivoted_samples_average))\n",
        "  expression_threshold = pivoted_samples_average.quantile(cut_off)\n",
        "  expressed_probes = pivoted_samples_average[pivoted_samples_average >= expression_threshold]\n",
        "  samples = np.log2(gse.pivot_samples(\"VALUE\").loc[expressed_probes.keys()])\n",
        "  samples = samples[condition_list]\n",
        "  print(\"Number of probes after filtering: \", len(samples))\n",
        "  return samples"
      ],
      "execution_count": 91,
      "outputs": []
    },
    {
      "cell_type": "code",
      "metadata": {
        "id": "YX_qCl9qaWet",
        "colab_type": "code",
        "colab": {}
      },
      "source": [
        "def get_ttest(control_samples, post_samples):\n",
        "  ttest_result = scipy.stats.ttest_ind(control_samples, post_samples, axis=1)\n",
        "  ttest = pd.DataFrame({\"stat\": ttest_result[0], \"pvalue\": ttest_result[1]}, index=control_samples.index)\n",
        "\n",
        "  return ttest"
      ],
      "execution_count": 119,
      "outputs": []
    },
    {
      "cell_type": "code",
      "metadata": {
        "id": "MBJ9rDquiH-6",
        "colab_type": "code",
        "colab": {}
      },
      "source": [
        "sample_ids = sorted([key for key in gse.gsms.keys()])"
      ],
      "execution_count": 168,
      "outputs": []
    },
    {
      "cell_type": "code",
      "metadata": {
        "id": "ll9Pc5S0Ncha",
        "colab_type": "code",
        "colab": {}
      },
      "source": [
        "normal_samples = sample_ids[:9]\n",
        "parkinson_smaples = sample_ids[9:]\n",
        "normal_samples = filter_genes(gse, 0.25, True, normal_samples)\n",
        "parkinson_smaples = filter_genes(gse, 0.25, True, parkinson_smaples)"
      ],
      "execution_count": 92,
      "outputs": []
    },
    {
      "cell_type": "code",
      "metadata": {
        "id": "8mQJ2Pv_aXsC",
        "colab_type": "code",
        "colab": {
          "base_uri": "https://localhost:8080/",
          "height": 122
        },
        "outputId": "49f76ef4-f2d1-49cf-d71d-660f6416998a"
      },
      "source": [
        "ttest_df = get_ttest(normal_samples, parkinson_smaples)"
      ],
      "execution_count": 121,
      "outputs": [
        {
          "output_type": "stream",
          "text": [
            "D:\\dev-env\\envs\\python36tf\\lib\\site-packages\\scipy\\stats\\_distn_infrastructure.py:903: RuntimeWarning: invalid value encountered in greater\n",
            "  return (a < x) & (x < b)\n",
            "D:\\dev-env\\envs\\python36tf\\lib\\site-packages\\scipy\\stats\\_distn_infrastructure.py:903: RuntimeWarning: invalid value encountered in less\n",
            "  return (a < x) & (x < b)\n",
            "D:\\dev-env\\envs\\python36tf\\lib\\site-packages\\scipy\\stats\\_distn_infrastructure.py:1912: RuntimeWarning: invalid value encountered in less_equal\n",
            "  cond2 = cond0 & (x <= _a)\n"
          ],
          "name": "stderr"
        }
      ]
    },
    {
      "cell_type": "code",
      "metadata": {
        "id": "AwgNjkHac-Zd",
        "colab_type": "code",
        "colab": {
          "base_uri": "https://localhost:8080/",
          "height": 450
        },
        "outputId": "d1345a3c-ee1f-4743-fa93-ae90bf7d1311"
      },
      "source": [
        "ttest_df"
      ],
      "execution_count": 124,
      "outputs": [
        {
          "output_type": "execute_result",
          "data": {
            "text/plain": [
              "                          stat    pvalue\n",
              "ID_REF                                  \n",
              "1007_s_at             0.582116  0.566152\n",
              "1053_at               1.982402  0.059505\n",
              "117_at               -2.178472  0.039874\n",
              "121_at                1.817269  0.082229\n",
              "1255_g_at             2.078169  0.049040\n",
              "...                        ...       ...\n",
              "AFFX-r2-Ec-bioC-5_at  3.259104  0.003454\n",
              "AFFX-r2-Ec-bioD-3_at -0.531785  0.599974\n",
              "AFFX-r2-Ec-bioD-5_at -2.039331  0.053068\n",
              "AFFX-r2-P1-cre-3_at  -0.251351  0.803775\n",
              "AFFX-r2-P1-cre-5_at  -0.321333  0.750860\n",
              "\n",
              "[54339 rows x 2 columns]"
            ],
            "text/html": [
              "<div>\n",
              "<style scoped>\n",
              "    .dataframe tbody tr th:only-of-type {\n",
              "        vertical-align: middle;\n",
              "    }\n",
              "\n",
              "    .dataframe tbody tr th {\n",
              "        vertical-align: top;\n",
              "    }\n",
              "\n",
              "    .dataframe thead th {\n",
              "        text-align: right;\n",
              "    }\n",
              "</style>\n",
              "<table border=\"1\" class=\"dataframe\">\n",
              "  <thead>\n",
              "    <tr style=\"text-align: right;\">\n",
              "      <th></th>\n",
              "      <th>stat</th>\n",
              "      <th>pvalue</th>\n",
              "    </tr>\n",
              "    <tr>\n",
              "      <th>ID_REF</th>\n",
              "      <th></th>\n",
              "      <th></th>\n",
              "    </tr>\n",
              "  </thead>\n",
              "  <tbody>\n",
              "    <tr>\n",
              "      <th>1007_s_at</th>\n",
              "      <td>0.582116</td>\n",
              "      <td>0.566152</td>\n",
              "    </tr>\n",
              "    <tr>\n",
              "      <th>1053_at</th>\n",
              "      <td>1.982402</td>\n",
              "      <td>0.059505</td>\n",
              "    </tr>\n",
              "    <tr>\n",
              "      <th>117_at</th>\n",
              "      <td>-2.178472</td>\n",
              "      <td>0.039874</td>\n",
              "    </tr>\n",
              "    <tr>\n",
              "      <th>121_at</th>\n",
              "      <td>1.817269</td>\n",
              "      <td>0.082229</td>\n",
              "    </tr>\n",
              "    <tr>\n",
              "      <th>1255_g_at</th>\n",
              "      <td>2.078169</td>\n",
              "      <td>0.049040</td>\n",
              "    </tr>\n",
              "    <tr>\n",
              "      <th>...</th>\n",
              "      <td>...</td>\n",
              "      <td>...</td>\n",
              "    </tr>\n",
              "    <tr>\n",
              "      <th>AFFX-r2-Ec-bioC-5_at</th>\n",
              "      <td>3.259104</td>\n",
              "      <td>0.003454</td>\n",
              "    </tr>\n",
              "    <tr>\n",
              "      <th>AFFX-r2-Ec-bioD-3_at</th>\n",
              "      <td>-0.531785</td>\n",
              "      <td>0.599974</td>\n",
              "    </tr>\n",
              "    <tr>\n",
              "      <th>AFFX-r2-Ec-bioD-5_at</th>\n",
              "      <td>-2.039331</td>\n",
              "      <td>0.053068</td>\n",
              "    </tr>\n",
              "    <tr>\n",
              "      <th>AFFX-r2-P1-cre-3_at</th>\n",
              "      <td>-0.251351</td>\n",
              "      <td>0.803775</td>\n",
              "    </tr>\n",
              "    <tr>\n",
              "      <th>AFFX-r2-P1-cre-5_at</th>\n",
              "      <td>-0.321333</td>\n",
              "      <td>0.750860</td>\n",
              "    </tr>\n",
              "  </tbody>\n",
              "</table>\n",
              "<p>54339 rows × 2 columns</p>\n",
              "</div>"
            ]
          },
          "metadata": {
            "tags": []
          },
          "execution_count": 124
        }
      ]
    },
    {
      "cell_type": "code",
      "metadata": {
        "id": "V_aPSirEa-WI",
        "colab_type": "code",
        "colab": {}
      },
      "source": [
        "from statsmodels.stats import multitest"
      ],
      "execution_count": 123,
      "outputs": []
    },
    {
      "cell_type": "code",
      "metadata": {
        "id": "DqybNjPgcuw1",
        "colab_type": "code",
        "colab": {}
      },
      "source": [
        "def get_FDR(ttest_df):\n",
        "  corrected_pvalue = multitest.multipletests(pvals=ttest_df['pvalue'], method='bonferroni', alpha=0.05)\n",
        "  print(corrected_pvalue)\n",
        "  FDR = pd.DataFrame({'Rejected': corrected_pvalue[0], 'FDR': corrected_pvalue[1]}, index= ttest_df.index)\n",
        "\n",
        "  return FDR"
      ],
      "execution_count": 148,
      "outputs": []
    },
    {
      "cell_type": "code",
      "metadata": {
        "id": "A5PbMHIIebjo",
        "colab_type": "code",
        "colab": {
          "base_uri": "https://localhost:8080/",
          "height": 104
        },
        "outputId": "2a8c17e9-027c-44c1-fef4-67fbfbc38212"
      },
      "source": [
        "FDR = get_FDR(ttest_df)"
      ],
      "execution_count": 149,
      "outputs": [
        {
          "output_type": "stream",
          "text": [
            "(array([False, False, False, ..., False, False, False]), array([1., 1., 1., ..., 1., 1., 1.]), 9.43949468701355e-07, 9.201494322678003e-07)\n"
          ],
          "name": "stdout"
        },
        {
          "output_type": "stream",
          "text": [
            "D:\\dev-env\\envs\\python36tf\\lib\\site-packages\\statsmodels\\stats\\multitest.py:152: RuntimeWarning: invalid value encountered in less_equal\n",
            "  reject = pvals <= alphacBonf\n",
            "D:\\dev-env\\envs\\python36tf\\lib\\site-packages\\statsmodels\\stats\\multitest.py:256: RuntimeWarning: invalid value encountered in greater\n",
            "  pvals_corrected[pvals_corrected>1] = 1\n"
          ],
          "name": "stderr"
        }
      ]
    },
    {
      "cell_type": "code",
      "metadata": {
        "id": "QaRpNxLCe9dk",
        "colab_type": "code",
        "colab": {}
      },
      "source": [
        "selected = FDR.loc[FDR['FDR'] < 0.1]"
      ],
      "execution_count": 155,
      "outputs": []
    },
    {
      "cell_type": "code",
      "metadata": {
        "id": "XDGPUNhMg7ix",
        "colab_type": "code",
        "colab": {}
      },
      "source": [
        "def get_selected_df(gse_obj, selected_FDR):\n",
        "  pivoted_samples = gse_obj.pivot_samples('VALUE').loc[selected_FDR.index]\n",
        "  return pivoted_samples"
      ],
      "execution_count": 159,
      "outputs": []
    },
    {
      "cell_type": "code",
      "metadata": {
        "id": "f-_eop58hN58",
        "colab_type": "code",
        "colab": {}
      },
      "source": [
        "selected_df = get_selected_df(gse, selected)"
      ],
      "execution_count": 160,
      "outputs": []
    },
    {
      "cell_type": "code",
      "metadata": {
        "id": "ROu9Xg_BhfgB",
        "colab_type": "code",
        "colab": {}
      },
      "source": [
        "selected_df = np.log2(selected_df)"
      ],
      "execution_count": 162,
      "outputs": []
    },
    {
      "cell_type": "code",
      "metadata": {
        "id": "WsMvw00kie3i",
        "colab_type": "code",
        "colab": {}
      },
      "source": [
        "normal_samples = sample_ids[:9]\n",
        "parkinson_smaples = sample_ids[9:]"
      ],
      "execution_count": 169,
      "outputs": []
    },
    {
      "cell_type": "code",
      "metadata": {
        "id": "1kRwBtrlh8at",
        "colab_type": "code",
        "colab": {}
      },
      "source": [
        "normal_samples = selected_df[normal_samples]\n",
        "parkinson_smaples = selected_df[parkinson_smaples]"
      ],
      "execution_count": 170,
      "outputs": []
    },
    {
      "cell_type": "code",
      "metadata": {
        "id": "jInLHbJDijop",
        "colab_type": "code",
        "colab": {}
      },
      "source": [
        "LFCs = get_lfc(normal_samples, parkinson_smaples)"
      ],
      "execution_count": 171,
      "outputs": []
    },
    {
      "cell_type": "code",
      "metadata": {
        "id": "i4jZYh_IilfT",
        "colab_type": "code",
        "colab": {
          "base_uri": "https://localhost:8080/",
          "height": 142
        },
        "outputId": "cae1dd90-d4f2-406c-c3c9-19e3efaada70"
      },
      "source": [
        "LFCs"
      ],
      "execution_count": 172,
      "outputs": [
        {
          "output_type": "execute_result",
          "data": {
            "text/plain": [
              "                LFC\n",
              "201436_at -0.665640\n",
              "223766_at -0.890947\n",
              "228845_at -1.393827"
            ],
            "text/html": [
              "<div>\n",
              "<style scoped>\n",
              "    .dataframe tbody tr th:only-of-type {\n",
              "        vertical-align: middle;\n",
              "    }\n",
              "\n",
              "    .dataframe tbody tr th {\n",
              "        vertical-align: top;\n",
              "    }\n",
              "\n",
              "    .dataframe thead th {\n",
              "        text-align: right;\n",
              "    }\n",
              "</style>\n",
              "<table border=\"1\" class=\"dataframe\">\n",
              "  <thead>\n",
              "    <tr style=\"text-align: right;\">\n",
              "      <th></th>\n",
              "      <th>LFC</th>\n",
              "    </tr>\n",
              "  </thead>\n",
              "  <tbody>\n",
              "    <tr>\n",
              "      <th>201436_at</th>\n",
              "      <td>-0.665640</td>\n",
              "    </tr>\n",
              "    <tr>\n",
              "      <th>223766_at</th>\n",
              "      <td>-0.890947</td>\n",
              "    </tr>\n",
              "    <tr>\n",
              "      <th>228845_at</th>\n",
              "      <td>-1.393827</td>\n",
              "    </tr>\n",
              "  </tbody>\n",
              "</table>\n",
              "</div>"
            ]
          },
          "metadata": {
            "tags": []
          },
          "execution_count": 172
        }
      ]
    },
    {
      "cell_type": "code",
      "metadata": {
        "id": "7VEqZJSaNpP3",
        "colab_type": "code",
        "colab": {}
      },
      "source": [
        "def get_lfc(control_samples, post_samples):\n",
        "  control_mean = control_samples.mean(axis=1)\n",
        "  post_mean = post_samples.mean(axis=1)\n",
        "  LFCs = pd.DataFrame({\"LFC\": (post_mean - control_mean).to_dict()})\n",
        "  return LFCs"
      ],
      "execution_count": 93,
      "outputs": []
    },
    {
      "cell_type": "code",
      "metadata": {
        "id": "a1QwWFL5OEGF",
        "colab_type": "code",
        "colab": {}
      },
      "source": [
        "LFCs = get_lfc(normal_samples, parkinson_smaples)"
      ],
      "execution_count": 94,
      "outputs": []
    },
    {
      "cell_type": "code",
      "metadata": {
        "id": "UH49R4eDOG5h",
        "colab_type": "code",
        "colab": {}
      },
      "source": [
        "def get_annotation(gene_dataframe, data_flatform, leftkey):\n",
        "  gene_annotated = gene_dataframe.reset_index().merge(gse.gpls[data_flatform].table[[\"ID\", \"ENTREZ_GENE_ID\", \"Gene Symbol\"]],\n",
        "                                left_on=leftkey, right_on=\"ID\").set_index(leftkey)\n",
        "  del gene_annotated[\"ID\"]\n",
        "  # remove probes without ENTREZ\n",
        "  gene_annotated = gene_annotated.dropna(subset=[\"ENTREZ_GENE_ID\"])\n",
        "  # remove probes with more than one gene assigned\n",
        "  gene_annotated['ENTREZ_GENE_ID'] = pd.to_numeric(gene_annotated['ENTREZ_GENE_ID'], errors=\"coerce\")\n",
        "  gene_annotated.dropna(how=\"any\", inplace=True)\n",
        "  gene_annotated['ENTREZ_GENE_ID'] = gene_annotated.ENTREZ_GENE_ID.astype('int').astype('str')\n",
        "  # for each gene average LFC over probes\n",
        "  gene_annotated = gene_annotated.groupby(\"Gene Symbol\").median()\n",
        "\n",
        "  return gene_annotated"
      ],
      "execution_count": 112,
      "outputs": []
    },
    {
      "cell_type": "code",
      "metadata": {
        "id": "4bryaLq-P4S9",
        "colab_type": "code",
        "colab": {}
      },
      "source": [
        "LFCs_annotated = get_annotation(LFCs, 'GPL570', 'index')"
      ],
      "execution_count": 173,
      "outputs": []
    },
    {
      "cell_type": "code",
      "metadata": {
        "id": "XMKLP9JOOSRl",
        "colab_type": "code",
        "colab": {
          "base_uri": "https://localhost:8080/",
          "height": 173
        },
        "outputId": "7def1418-ad09-4aec-8fb2-accf009a02e2"
      },
      "source": [
        "LFCs_annotated"
      ],
      "execution_count": 174,
      "outputs": [
        {
          "output_type": "execute_result",
          "data": {
            "text/plain": [
              "                   LFC\n",
              "Gene Symbol           \n",
              "EIF4E        -0.665640\n",
              "LOC100133130 -0.890947\n",
              "PLBD2        -1.393827"
            ],
            "text/html": [
              "<div>\n",
              "<style scoped>\n",
              "    .dataframe tbody tr th:only-of-type {\n",
              "        vertical-align: middle;\n",
              "    }\n",
              "\n",
              "    .dataframe tbody tr th {\n",
              "        vertical-align: top;\n",
              "    }\n",
              "\n",
              "    .dataframe thead th {\n",
              "        text-align: right;\n",
              "    }\n",
              "</style>\n",
              "<table border=\"1\" class=\"dataframe\">\n",
              "  <thead>\n",
              "    <tr style=\"text-align: right;\">\n",
              "      <th></th>\n",
              "      <th>LFC</th>\n",
              "    </tr>\n",
              "    <tr>\n",
              "      <th>Gene Symbol</th>\n",
              "      <th></th>\n",
              "    </tr>\n",
              "  </thead>\n",
              "  <tbody>\n",
              "    <tr>\n",
              "      <th>EIF4E</th>\n",
              "      <td>-0.665640</td>\n",
              "    </tr>\n",
              "    <tr>\n",
              "      <th>LOC100133130</th>\n",
              "      <td>-0.890947</td>\n",
              "    </tr>\n",
              "    <tr>\n",
              "      <th>PLBD2</th>\n",
              "      <td>-1.393827</td>\n",
              "    </tr>\n",
              "  </tbody>\n",
              "</table>\n",
              "</div>"
            ]
          },
          "metadata": {
            "tags": []
          },
          "execution_count": 174
        }
      ]
    }
  ]
}